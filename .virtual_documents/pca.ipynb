import pandas as pd
import numpy as np
from sklearn.decomposition import PCA
from sklearn.preprocessing import StandardScaler


df = pd.read_csv("231214_normalized_cytoplasm_all.csv")
experiments = df['experiment'].unique()
experiments_treatments_dict = {name: group["treatment"].unique().tolist() for name, group in df.groupby("experiment")}
experiments_cellline_dict = {name: group["cell_line"].unique().tolist() for name, group in df.groupby("experiment")}
measures = ["na1","na2","nt1","nt2","ntm","fa1","fa2","ft1","ft2","ftm","nint","fint","normrr"]


# Step 1 
def subsetDF(df, experiment, cell_line=None, treatment=None):

    if cell_line is not None:
        criteria = (df['experiment'] == experiment) & (df['cell_line'] == cell_line)
    elif treatment is not None: 
        criteria = (df['experiment'] == experiment) & (df['treatment'] == treatment)
    subset_df = df[criteria].reset_index(drop=True)
    return subset_df

sdf = subsetDF(df, 'glytcafao',treatment='etomoxir')[measures]


# step 1 standardize the features 
# before standardization 
sdf['na1'].mean() # not 0
sdf['na1'].var() # not 1
# standardization 
scaler = StandardScaler()
sd_df = scaler.fit_transform(sdf)
# the standardized 
sd_df[:, 0].mean()
sd_df[:, 0].var()


# step 2: pca
pca = PCA(n_components=10)
principalComponents = pca.fit_transform(sd_df)
eigenvalues = pca.explained_variance_
eigenvalues


pca.components



