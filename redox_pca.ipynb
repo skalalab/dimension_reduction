{
 "cells": [
  {
   "cell_type": "code",
   "execution_count": null,
   "id": "fb5ed36f-94d0-4074-beba-9408f91d5b0b",
   "metadata": {},
   "outputs": [],
   "source": [
    "import pandas as pd\n",
    "import numpy as np\n",
    "from sklearn.decomposition import PCA\n",
    "from sklearn.preprocessing import StandardScaler\n",
    "import seaborn as sns\n",
    "from matplotlib import pyplot as plt"
   ]
  },
  {
   "cell_type": "code",
   "execution_count": null,
   "id": "9fca5a20-f860-4aaf-be48-ba67c946cc88",
   "metadata": {},
   "outputs": [],
   "source": [
    "df = pd.read_csv(\"231214_normalized_cytoplasm_all.csv\")\n",
    "experiments = df['experiment'].unique()\n",
    "experiments_treatments_dict = {name: group[\"treatment\"].unique().tolist() for name, group in df.groupby(\"experiment\")}\n",
    "experiments_cellline_dict = {name: group[\"cell_line\"].unique().tolist() for name, group in df.groupby(\"experiment\")}\n",
    "measures = [\"na1\",\"na2\",\"nt1\",\"nt2\",\"ntm\",\"fa1\",\"fa2\",\"ft1\",\"ft2\",\"ftm\",\"nint\",\"fint\",\"normrr\"]"
   ]
  },
  {
   "cell_type": "code",
   "execution_count": null,
   "id": "02fc0f8a-f065-4125-a3c9-af240a1be553",
   "metadata": {},
   "outputs": [],
   "source": [
    "# Step 1 \n",
    "def subsetDF(df, experiment, cell_line=None, treatment=None):\n",
    "\n",
    "    if cell_line is not None:\n",
    "        criteria = (df['experiment'] == experiment) & (df['cell_line'] == cell_line)\n",
    "    elif treatment is not None: \n",
    "        criteria = (df['experiment'] == experiment) & (df['treatment'] == treatment)\n",
    "    subset_df = df[criteria].reset_index(drop=True)\n",
    "    return subset_df\n",
    "\n",
    "sdf = subsetDF(df, 'glytcafao',treatment='etomoxir')[measures]"
   ]
  },
  {
   "cell_type": "code",
   "execution_count": null,
   "id": "fe9e7b20-07de-42ed-a677-e6692755c8a1",
   "metadata": {
    "tags": []
   },
   "outputs": [],
   "source": [
    "# step 1 standardize the features \n",
    "# before standardization \n",
    "sdf['na1'].mean() # not 0\n",
    "sdf['na1'].var() # not 1\n",
    "# standardization \n",
    "scaler = StandardScaler()\n",
    "sd_df = scaler.fit_transform(sdf)\n",
    "# the standardized \n",
    "sd_df[:, 0].mean()\n",
    "sd_df[:, 0].var()"
   ]
  },
  {
   "cell_type": "code",
   "execution_count": null,
   "id": "013714a5-335a-4287-af7c-36a4164e1763",
   "metadata": {},
   "outputs": [],
   "source": [
    "# step 2: pca\n",
    "pca = PCA(n_components=2)\n",
    "principalComponents = pca.fit_transform(sd_df)\n",
    "eigenvalues = pca.explained_variance_ratio_\n",
    "eigenvalues"
   ]
  },
  {
   "cell_type": "code",
   "execution_count": null,
   "id": "421b08cc-7066-4d20-9694-994553efa3c0",
   "metadata": {},
   "outputs": [],
   "source": [
    "loadings = pca.components_.T  # Transposing so each column corresponds to a PC\n",
    "loadings_df = pd.DataFrame(loadings, columns=['PC1', 'PC2'], index=measures)\n",
    "sns.heatmap(loadings_df, annot=True, cmap='coolwarm', center=0)\n",
    "plt.title('Contribution of Original Variables to Principal Components')\n",
    "plt.show()"
   ]
  }
 ],
 "metadata": {
  "kernelspec": {
   "display_name": "Python 3 (ipykernel)",
   "language": "python",
   "name": "python3"
  },
  "language_info": {
   "codemirror_mode": {
    "name": "ipython",
    "version": 3
   },
   "file_extension": ".py",
   "mimetype": "text/x-python",
   "name": "python",
   "nbconvert_exporter": "python",
   "pygments_lexer": "ipython3",
   "version": "3.11.6"
  }
 },
 "nbformat": 4,
 "nbformat_minor": 5
}
