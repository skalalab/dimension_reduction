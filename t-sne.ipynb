{
 "cells": [
  {
   "cell_type": "markdown",
   "id": "912ae8fe-0efe-4733-95f4-103e472c9c90",
   "metadata": {},
   "source": [
    "# t-distributed Stochastic Neighbor Embedding"
   ]
  }
 ],
 "metadata": {
  "kernelspec": {
   "display_name": "Python 3 (ipykernel)",
   "language": "python",
   "name": "python3"
  },
  "language_info": {
   "codemirror_mode": {
    "name": "ipython",
    "version": 3
   },
   "file_extension": ".py",
   "mimetype": "text/x-python",
   "name": "python",
   "nbconvert_exporter": "python",
   "pygments_lexer": "ipython3",
   "version": "3.11.6"
  }
 },
 "nbformat": 4,
 "nbformat_minor": 5
}
